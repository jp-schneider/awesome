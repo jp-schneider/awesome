{
 "cells": [
  {
   "cell_type": "code",
   "execution_count": 1,
   "metadata": {},
   "outputs": [],
   "source": [
    "%load_ext autoreload\n",
    "%autoreload 2\n",
    "from awesome.run.awesome_config import AwesomeConfig\n",
    "import os"
   ]
  },
  {
   "cell_type": "code",
   "execution_count": 3,
   "metadata": {},
   "outputs": [],
   "source": [
    "path = \"../config/fbms_unet_prior_realnvp/2024_01_11\"\n",
    "output_path = \"../config/path-connectedness/sequential\"\n",
    "\n",
    "dvalo = \"data/local_datasets\"\n",
    "dval = \"data/datasets\"\n",
    "\n",
    "values = {\n",
    "    \"dataset_args.dataset.dataset_path\": (dvalo, dval),\n",
    "    \"dataset_args.feature_dir\": (dvalo, dval),\n",
    "    \"semantic_soft_segmentation_code_dir\": (\"../SIGGRAPH18SSS\", \"./third_party/soft_semantic_segmentation\"),\n",
    "    \"semantic_soft_segmentation_model_checkpoint_dir\": (\"./data/sss_checkpoint\", \"./data/checkpoints/soft_semantic_segmentation\"),\n",
    "}\n",
    "\n",
    "\n",
    "test_save_path = \"./test_save.yaml\"\n",
    "AwesomeConfig.update_object_path_values_in_folder(path, output_path, values, save_args=dict(override=True, make_dirs=True, no_uuid=True))"
   ]
  },
  {
   "cell_type": "code",
   "execution_count": 3,
   "metadata": {},
   "outputs": [],
   "source": [
    "path = \"../config/fbms_unet_diffeo_joint/2024_01_11\"\n",
    "output_path = \"../config/path-connectedness/joint\"\n",
    "\n",
    "dvalo = \"data/local_datasets\"\n",
    "dval = \"data/datasets\"\n",
    "\n",
    "values = {\n",
    "    \"dataset_args.dataset.dataset_path\": (dvalo, dval),\n",
    "    \"dataset_args.feature_dir\": (dvalo, dval),\n",
    "    \"semantic_soft_segmentation_code_dir\": (\"../SIGGRAPH18SSS\", \"./third_party/soft_semantic_segmentation\"),\n",
    "    \"semantic_soft_segmentation_model_checkpoint_dir\": (\"./data/sss_checkpoint\", \"./data/checkpoints/soft_semantic_segmentation\"),\n",
    "}\n",
    "\n",
    "AwesomeConfig.update_object_path_values_in_folder(path, output_path, values, save_args=dict(override=True, make_dirs=True, no_uuid=True))\n",
    "AwesomeConfig.update_object_path_values_in_folder(path+\"/seed\", output_path, values, save_args=dict(override=True, make_dirs=True, no_uuid=True))"
   ]
  },
  {
   "cell_type": "markdown",
   "metadata": {},
   "source": [
    "## Patching Unet Refit"
   ]
  },
  {
   "cell_type": "code",
   "execution_count": 2,
   "metadata": {},
   "outputs": [
    {
     "name": "stderr",
     "output_type": "stream",
     "text": [
      "WARNING:root:Error importing CRF module. CRF will not be available. Is pydensecrf installed?\n"
     ]
    }
   ],
   "source": [
    "path = \"../config/fbms_unet_refit\"\n",
    "output_path = \"../config/path-connectedness/refit_unet\"\n",
    "\n",
    "dvalo = \"data/local_datasets\"\n",
    "dval = \"data/datasets\"\n",
    "\n",
    "values = {\n",
    "    \"dataset_args.dataset.dataset_path\": (dvalo, dval),\n",
    "    \"dataset_args.feature_dir\": (dvalo, dval),\n",
    "    \"semantic_soft_segmentation_code_dir\": (\"../SIGGRAPH18SSS\", \"./third_party/soft_semantic_segmentation\"),\n",
    "    \"semantic_soft_segmentation_model_checkpoint_dir\": (\"./data/sss_checkpoint\", \"./data/checkpoints/soft_semantic_segmentation\"),\n",
    "}\n",
    "\n",
    "AwesomeConfig.update_object_path_values_in_folder(path, output_path, values, save_args=dict(override=True, make_dirs=True, no_uuid=True))"
   ]
  },
  {
   "cell_type": "markdown",
   "metadata": {},
   "source": [
    "## Spatio Temporal"
   ]
  },
  {
   "cell_type": "code",
   "execution_count": 3,
   "metadata": {},
   "outputs": [],
   "source": [
    "path = \"../config/fbms_spatio_temporal/2024_01_16\"\n",
    "output_path = \"../config/path-connectedness/spatio-temporal\"\n",
    "\n",
    "dvalo = \"data/local_datasets\"\n",
    "dval = \"data/datasets\"\n",
    "\n",
    "values = {\n",
    "    \"dataset_args.dataset.dataset_path\": (dvalo, dval),\n",
    "    \"dataset_args.feature_dir\": (dvalo, dval),\n",
    "    \"semantic_soft_segmentation_code_dir\": (\"../SIGGRAPH18SSS\", \"./third_party/soft_semantic_segmentation\"),\n",
    "    \"semantic_soft_segmentation_model_checkpoint_dir\": (\"./data/sss_checkpoint\", \"./data/checkpoints/soft_semantic_segmentation\"),\n",
    "}\n",
    "\n",
    "AwesomeConfig.update_object_path_values_in_folder(path, output_path, values, save_args=dict(override=True, make_dirs=True, no_uuid=True))"
   ]
  },
  {
   "cell_type": "markdown",
   "metadata": {},
   "source": [
    "## Noisy Spatio Temporal"
   ]
  },
  {
   "cell_type": "code",
   "execution_count": 4,
   "metadata": {},
   "outputs": [],
   "source": [
    "path = \"../config/fbms_noisy_spatio_temporal\"\n",
    "output_path = \"../config/path-connectedness/noisy-spatio-temporal\"\n",
    "\n",
    "dvalo = \"data/local_datasets\"\n",
    "dval = \"data/datasets\"\n",
    "\n",
    "values = {\n",
    "    \"dataset_args.dataset.dataset_path\": (dvalo, dval),\n",
    "    \"dataset_args.feature_dir\": (dvalo, dval),\n",
    "    \"semantic_soft_segmentation_code_dir\": (\"../SIGGRAPH18SSS\", \"./third_party/soft_semantic_segmentation\"),\n",
    "    \"semantic_soft_segmentation_model_checkpoint_dir\": (\"./data/sss_checkpoint\", \"./data/checkpoints/soft_semantic_segmentation\"),\n",
    "}\n",
    "\n",
    "AwesomeConfig.update_object_path_values_in_folder(path, output_path, values, save_args=dict(override=True, make_dirs=True, no_uuid=True))"
   ]
  }
 ],
 "metadata": {
  "kernelspec": {
   "display_name": "awesome-dC4phDSK-py3.9",
   "language": "python",
   "name": "python3"
  },
  "language_info": {
   "codemirror_mode": {
    "name": "ipython",
    "version": 3
   },
   "file_extension": ".py",
   "mimetype": "text/x-python",
   "name": "python",
   "nbconvert_exporter": "python",
   "pygments_lexer": "ipython3",
   "version": "3.9.13"
  }
 },
 "nbformat": 4,
 "nbformat_minor": 2
}
