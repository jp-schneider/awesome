{
 "cells": [
  {
   "cell_type": "code",
   "execution_count": 1,
   "metadata": {},
   "outputs": [
    {
     "name": "stderr",
     "output_type": "stream",
     "text": [
      "D:\\projects\\AWESOME\\awesome\\agent\\torch_agent.py:19: TqdmExperimentalWarning: Using `tqdm.autonotebook.tqdm` in notebook mode. Use `tqdm.tqdm` instead to force console mode (e.g. in jupyter console)\n",
      "  from tqdm.autonotebook import tqdm\n"
     ]
    }
   ],
   "source": [
    "%load_ext autoreload\n",
    "%autoreload 2\n",
    "from awesome.run.awesome_config import AwesomeConfig\n",
    "from awesome.run.awesome_runner import AwesomeRunner\n",
    "from awesome.util.reflection import class_name\n",
    "import os\n",
    "import torch\n",
    "\n",
    "from awesome.dataset.sisbosi_dataset import SISBOSIDataset, ConvexityDataset as SISBOSIConvexityDataset\n",
    "from awesome.dataset.convexity_segmentation_dataset import ConvexitySegmentationDataset\n",
    "from awesome.measures.awesome_loss import AwesomeLoss\n",
    "from awesome.measures.regularizer_loss import RegularizerLoss\n",
    "from awesome.model.convex_diffeomorphism_net import ConvexDiffeomorphismNet\n",
    "from awesome.model.net import Net\n",
    "import awesome\n",
    "from awesome.util.path_tools import get_project_root_path\n",
    "from awesome.util.logging import basic_config\n",
    "import matplotlib.pyplot as plt\n",
    "\n",
    "basic_config()\n",
    "\n",
    "os.chdir(get_project_root_path()) # Beeing in the root directory of the project is important for the relative paths to work consistently"
   ]
  },
  {
   "cell_type": "code",
   "execution_count": 7,
   "metadata": {},
   "outputs": [
    {
     "data": {
      "application/vnd.jupyter.widget-view+json": {
       "model_id": "48c23684115b4d389c07938552d0bd42",
       "version_major": 2,
       "version_minor": 0
      },
      "text/plain": [
       "Loading frames...:   0%|          | 0/100 [00:00<?, ?it/s]"
      ]
     },
     "metadata": {},
     "output_type": "display_data"
    },
    {
     "data": {
      "text/plain": [
       "'./config/UNET+bear01+edgexy+REFIT.yaml'"
      ]
     },
     "execution_count": 7,
     "metadata": {},
     "output_type": "execute_result"
    }
   ],
   "source": [
    "# CNNet\n",
    "\n",
    "from awesome.dataset.awesome_dataset import AwesomeDataset\n",
    "from awesome.dataset.fbms_sequence_dataset import FBMSSequenceDataset\n",
    "from awesome.dataset.sisbosi_dataset import SISBOSIDataset, ConvexityDataset as SISBOSIConvexityDataset\n",
    "from awesome.measures.awesome_image_loss_joint import AwesomeImageLossJoint\n",
    "from awesome.measures.awesome_image_loss import AwesomeImageLoss\n",
    "from awesome.measures.gradient_penalty_loss import GradientPenaltyLoss\n",
    "from awesome.measures.fbms_joint_loss import FBMSJointLoss\n",
    "from awesome.measures.regularizer_loss import RegularizerLoss\n",
    "from awesome.model.cnn_net import CNNNet\n",
    "from awesome.measures.tv import TV\n",
    "from awesome.model.convex_net import ConvexNet\n",
    "from awesome.model.unet import UNet\n",
    "from awesome.measures.weighted_loss import WeightedLoss\n",
    "\n",
    "xytype = \"edgexy\"\n",
    "dataset_kind = \"train\"\n",
    "dataset = \"bear01\"\n",
    "all_frames = True\n",
    "subset = None # slice(0, 5)\n",
    "\n",
    "data_path = f\"./data/local_datasets/FBMS-59/{dataset_kind}/{dataset}\"\n",
    "cfg = AwesomeConfig(\n",
    "        name_experiment=f\"UNET+{dataset}+{xytype}+REFIT\",\n",
    "        dataset_type=class_name(AwesomeDataset),\n",
    "        dataset_args={\n",
    "            \"dataset\": FBMSSequenceDataset(\n",
    "                    dataset_path=data_path,\n",
    "                    weak_labels_dir = \"weak_labels/labels_with_uncertainty_flownet2_based\",\n",
    "                    processed_weak_labels_dir = \"weak_labels/labels_with_uncertainty_flownet2_based/processed\",\n",
    "                    confidence_dir= \"weak_labels/labels_with_uncertainty_flownet2_based/\",\n",
    "                    do_weak_label_preprocessing=True,\n",
    "                    do_uncertainty_label_flip=True,\n",
    "                    all_frames=all_frames\n",
    "                ),\n",
    "            \"xytype\": xytype,\n",
    "            \"feature_dir\": f\"{data_path}/Feat\",\n",
    "            \"dimension\": \"3d\", # 2d for fcnet\n",
    "            \"mode\": \"model_input\",\n",
    "            \"model_input_requires_grad\": False,\n",
    "            \"batch_size\": 1,\n",
    "            \"split_ratio\": 1,\n",
    "            \"shuffle_in_dataloader\": True,\n",
    "            \"image_channel_format\": \"bgr\",\n",
    "            \"do_image_blurring\": True,\n",
    "            \"subset\": subset\n",
    "        },\n",
    "        segmentation_model_type=class_name(UNet),\n",
    "        segmentation_model_args={\n",
    "            'in_chn': 6,\n",
    "        },\n",
    "        segmentation_training_mode='multi',\n",
    "        #segmentation_model_state_dict_path=f\"./data/checkpoints/retrain/model_{dataset}_unet.pth\", # Path to the pretrained model\n",
    "        use_segmentation_output_inversion=True,\n",
    "        use_prior_model=False,\n",
    "        loss_type=class_name(WeightedLoss),\n",
    "        loss_args={\n",
    "            \"criterion\": torch.nn.BCELoss(),\n",
    "            \"mode\": \"sssdms\",\n",
    "            \"noneclass\": 2,\n",
    "        },\n",
    "        use_step_lr_scheduler=True,\n",
    "        step_lr_scheduler_args={\n",
    "            \"gamma\": 0.1,\n",
    "            \"step_size\": 5,\n",
    "        },\n",
    "        use_binary_classification=True, \n",
    "        num_epochs=15,\n",
    "        device=\"cuda\",\n",
    "        dtype=str(torch.float32),\n",
    "        runs_path=\"./runs/fbms_local/refit/\",\n",
    "        optimizer_args={\n",
    "            \"lr\": 0.01,\n",
    "            \"betas\": (0.9, 0.999),\n",
    "            \"eps\": 1e-08,\n",
    "            \"amsgrad\": False\n",
    "        },\n",
    "        use_progress_bar=True,\n",
    "        semantic_soft_segmentation_code_dir=\"../siggraph/\",\n",
    "        semantic_soft_segmentation_model_checkpoint_dir=\"./data/sss_checkpoint/model\",\n",
    "        plot_indices_during_training_nth_epoch=5,\n",
    "        compute_metrics_during_training_nth_epoch=5,\n",
    "        plot_indices_during_training=[0, 19, 39, 59, 79, 99],\n",
    "        agent_args=dict(\n",
    "             do_pretraining=False,\n",
    "        ),\n",
    "        weight_decay_on_weight_norm_modules=0,\n",
    "        #output_folder=\"./runs/fbms_local/unet/TestUnet/\",\n",
    "    )\n",
    "cfg.save_to_file(f\"./config/{cfg.name_experiment}.yaml\", override=True, no_uuid=True)"
   ]
  },
  {
   "cell_type": "code",
   "execution_count": 8,
   "metadata": {},
   "outputs": [
    {
     "data": {
      "application/vnd.jupyter.widget-view+json": {
       "model_id": "fe26d8f342bf4febb30d0b74a6f2d4cf",
       "version_major": 2,
       "version_minor": 0
      },
      "text/plain": [
       "Processing images...:   0%|          | 0/100 [00:00<?, ?it/s]"
      ]
     },
     "metadata": {},
     "output_type": "display_data"
    },
    {
     "name": "stderr",
     "output_type": "stream",
     "text": [
      "2023-11-12:17:51:07.271 INFO     [tensorboard.py:55] Tensorboard logger created at: runs\\fbms_local\\refit\\UNET+bear01+edgexy+REFIT_23_11_12_17_51_07\n"
     ]
    },
    {
     "data": {
      "text/plain": [
       "'./runs/fbms_local/refit/UNET+bear01+edgexy+REFIT_23_11_12_17_51_07\\\\init_cfg_awesome_config.yaml'"
      ]
     },
     "execution_count": 8,
     "metadata": {},
     "output_type": "execute_result"
    }
   ],
   "source": [
    "runner = AwesomeRunner(cfg)\n",
    "runner.build()\n",
    "runner.store_config()"
   ]
  },
  {
   "cell_type": "code",
   "execution_count": 9,
   "metadata": {},
   "outputs": [
    {
     "data": {
      "application/vnd.jupyter.widget-view+json": {
       "model_id": "e7abbf9b7ff64d069092519775ba5319",
       "version_major": 2,
       "version_minor": 0
      },
      "text/plain": [
       "  0%|          | 0/15 [00:00<?, ?it/s]"
      ]
     },
     "metadata": {},
     "output_type": "display_data"
    },
    {
     "data": {
      "application/vnd.jupyter.widget-view+json": {
       "model_id": "e326e00b2b354576ab1491edb03712a5",
       "version_major": 2,
       "version_minor": 0
      },
      "text/plain": [
       "Computing metrics...:   0%|          | 0/100 [00:00<?, ?it/s]"
      ]
     },
     "metadata": {},
     "output_type": "display_data"
    },
    {
     "data": {
      "application/vnd.jupyter.widget-view+json": {
       "model_id": "90bc59113b7d4054bd78ce7981b552e7",
       "version_major": 2,
       "version_minor": 0
      },
      "text/plain": [
       "Model-Epoch: 0 / LearningMode.TRAINING - Batches:   0%|          | 0/100 [00:00<?, ?it/s]"
      ]
     },
     "metadata": {},
     "output_type": "display_data"
    },
    {
     "name": "stderr",
     "output_type": "stream",
     "text": [
      "2023-11-12:17:52:26.580 INFO     [torch_agent.py:327] Epoch 1 / 15 time 00:00:31\n",
      "2023-11-12:17:52:54.854 INFO     [torch_agent.py:327] Epoch 2 / 15 time 00:00:28\n",
      "2023-11-12:17:53:24.110 INFO     [torch_agent.py:327] Epoch 3 / 15 time 00:00:29\n",
      "2023-11-12:17:53:52.002 INFO     [torch_agent.py:327] Epoch 4 / 15 time 00:00:27\n"
     ]
    },
    {
     "data": {
      "application/vnd.jupyter.widget-view+json": {
       "model_id": "8a83efc5b2754ca3a2bf517c805f5763",
       "version_major": 2,
       "version_minor": 0
      },
      "text/plain": [
       "Computing metrics...:   0%|          | 0/100 [00:00<?, ?it/s]"
      ]
     },
     "metadata": {},
     "output_type": "display_data"
    },
    {
     "name": "stderr",
     "output_type": "stream",
     "text": [
      "2023-11-12:17:55:13.395 INFO     [torch_agent.py:327] Epoch 5 / 15 time 00:01:21\n",
      "2023-11-12:17:55:43.470 INFO     [torch_agent.py:327] Epoch 6 / 15 time 00:00:30\n",
      "2023-11-12:17:56:14.016 INFO     [torch_agent.py:327] Epoch 7 / 15 time 00:00:30\n",
      "2023-11-12:17:56:44.674 INFO     [torch_agent.py:327] Epoch 8 / 15 time 00:00:30\n",
      "2023-11-12:17:57:15.351 INFO     [torch_agent.py:327] Epoch 9 / 15 time 00:00:30\n"
     ]
    },
    {
     "data": {
      "application/vnd.jupyter.widget-view+json": {
       "model_id": "d5c030e298334a4ba4c35589133f4409",
       "version_major": 2,
       "version_minor": 0
      },
      "text/plain": [
       "Computing metrics...:   0%|          | 0/100 [00:00<?, ?it/s]"
      ]
     },
     "metadata": {},
     "output_type": "display_data"
    },
    {
     "name": "stderr",
     "output_type": "stream",
     "text": [
      "2023-11-12:17:58:39.974 INFO     [torch_agent.py:327] Epoch 10 / 15 time 00:01:24\n",
      "2023-11-12:17:59:06.519 INFO     [torch_agent.py:327] Epoch 11 / 15 time 00:00:26\n",
      "2023-11-12:17:59:33.005 INFO     [torch_agent.py:327] Epoch 12 / 15 time 00:00:26\n",
      "2023-11-12:17:59:59.424 INFO     [torch_agent.py:327] Epoch 13 / 15 time 00:00:26\n",
      "2023-11-12:18:00:26.017 INFO     [torch_agent.py:327] Epoch 14 / 15 time 00:00:26\n"
     ]
    },
    {
     "data": {
      "application/vnd.jupyter.widget-view+json": {
       "model_id": "6874e95b7ec645238926ab1c51850b88",
       "version_major": 2,
       "version_minor": 0
      },
      "text/plain": [
       "Computing metrics...:   0%|          | 0/100 [00:00<?, ?it/s]"
      ]
     },
     "metadata": {},
     "output_type": "display_data"
    },
    {
     "name": "stderr",
     "output_type": "stream",
     "text": [
      "2023-11-12:18:01:41.620 INFO     [torch_agent.py:327] Epoch 15 / 15 time 00:01:15\n",
      "2023-11-12:18:01:41.832 INFO     [handles.py:211] Saved checkpoint to ./runs/fbms_local/refit/UNET+bear01+edgexy+REFIT_23_11_12_17_51_07\\checkpoint_epoch_15.pth at epoch 15\n",
      "2023-11-12:18:01:41.834 INFO     [torch_agent.py:748] Training of agent UNET+bear01+edgexy+REFIT_23_11_12_17_51_07 complete in 00 days 00:09:46\n",
      "2023-11-12:18:01:41.835 INFO     [torch_agent.py:752] Best model: UNET+bear01+edgexy+REFIT_Epoch_-1 Accuracy: 0.009373056713957339 Tag: train/epoch/WeightedLoss\n"
     ]
    },
    {
     "data": {
      "application/vnd.jupyter.widget-view+json": {
       "model_id": "ce9998483c1848b3a00bce396b9951b8",
       "version_major": 2,
       "version_minor": 0
      },
      "text/plain": [
       "Creating final images...:   0%|          | 0/100 [00:00<?, ?it/s]"
      ]
     },
     "metadata": {},
     "output_type": "display_data"
    }
   ],
   "source": [
    "\n",
    "runner.train()"
   ]
  }
 ],
 "metadata": {
  "kernelspec": {
   "display_name": "awesome-dC4phDSK-py3.9",
   "language": "python",
   "name": "python3"
  },
  "language_info": {
   "codemirror_mode": {
    "name": "ipython",
    "version": 3
   },
   "file_extension": ".py",
   "mimetype": "text/x-python",
   "name": "python",
   "nbconvert_exporter": "python",
   "pygments_lexer": "ipython3",
   "version": "3.9.13"
  }
 },
 "nbformat": 4,
 "nbformat_minor": 2
}
