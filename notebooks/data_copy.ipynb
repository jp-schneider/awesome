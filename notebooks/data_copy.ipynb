{
 "cells": [
  {
   "cell_type": "code",
   "execution_count": 1,
   "metadata": {},
   "outputs": [],
   "source": [
    "%load_ext autoreload\n",
    "%autoreload 2\n",
    "from awesome.util.path_tools import filtered_copy, format_os_independent"
   ]
  },
  {
   "cell_type": "code",
   "execution_count": 2,
   "metadata": {},
   "outputs": [
    {
     "data": {
      "text/plain": [
       "'D:/cloud/sciebo/AWESOME_data/results/runs/fbms/joint_realnvp/2024-01-11'"
      ]
     },
     "execution_count": 2,
     "metadata": {},
     "output_type": "execute_result"
    }
   ],
   "source": [
    "src = r\"D:/projects/AWESOME/runs/fbms_local/eval/unet/joint_realnvp/2024-01-11\"\n",
    "dst = r\"D:/cloud/sciebo/AWESOME_data/results/runs/fbms/joint_realnvp/2024-01-11\"\n",
    "format_os_independent(dst)"
   ]
  },
  {
   "cell_type": "code",
   "execution_count": 7,
   "metadata": {},
   "outputs": [
    {
     "data": {
      "application/vnd.jupyter.widget-view+json": {
       "model_id": "525215dcef924f82956ff74b692750ef",
       "version_major": 2,
       "version_minor": 0
      },
      "text/plain": [
       "Path: ./2024-01-11:   0%|          | 0/54 [00:00<?, ?file/s]"
      ]
     },
     "metadata": {},
     "output_type": "display_data"
    },
    {
     "data": {
      "application/vnd.jupyter.widget-view+json": {
       "model_id": "42bdc94e678c405eb0813fc663df389d",
       "version_major": 2,
       "version_minor": 0
      },
      "text/plain": [
       "Path: ./2024-01-11\\#00_UNET+horses01+edge+diffeo+original+joint+seed47_24_01_24_12_30_24:   0%|          | 0/1…"
      ]
     },
     "metadata": {},
     "output_type": "display_data"
    },
    {
     "data": {
      "application/vnd.jupyter.widget-view+json": {
       "model_id": "e2660b32fa954c3ca0b935d7166862e4",
       "version_major": 2,
       "version_minor": 0
      },
      "text/plain": [
       "Path: ./2024-01-11\\#01_UNET+horses03+edge+diffeo+original+joint_24_01_11_17_06_14:   0%|          | 0/13 [00:0…"
      ]
     },
     "metadata": {},
     "output_type": "display_data"
    },
    {
     "data": {
      "application/vnd.jupyter.widget-view+json": {
       "model_id": "c6c6b7e40e7242dfb8eb8587d2942c0c",
       "version_major": 2,
       "version_minor": 0
      },
      "text/plain": [
       "Path: ./2024-01-11\\#01_UNET+marple10+edge+diffeo+original+joint+seed131_24_01_24_12_30_24:   0%|          | 0/…"
      ]
     },
     "metadata": {},
     "output_type": "display_data"
    },
    {
     "data": {
      "application/vnd.jupyter.widget-view+json": {
       "model_id": "814596a632b84211b5e20401b42f502e",
       "version_major": 2,
       "version_minor": 0
      },
      "text/plain": [
       "Path: ./2024-01-11\\#02_UNET+bear02+edge+diffeo+original+joint+seed47_24_01_24_12_30_24:   0%|          | 0/13 …"
      ]
     },
     "metadata": {},
     "output_type": "display_data"
    },
    {
     "data": {
      "application/vnd.jupyter.widget-view+json": {
       "model_id": "34952337f0af435495863c1801237c48",
       "version_major": 2,
       "version_minor": 0
      },
      "text/plain": [
       "Path: ./2024-01-11\\#02_UNET+cars7+edge+diffeo+original+joint_24_01_11_17_06_14:   0%|          | 0/13 [00:00<?…"
      ]
     },
     "metadata": {},
     "output_type": "display_data"
    },
    {
     "data": {
      "application/vnd.jupyter.widget-view+json": {
       "model_id": "7d6b4e5eda384207b55771e53b38a99e",
       "version_major": 2,
       "version_minor": 0
      },
      "text/plain": [
       "Path: ./2024-01-11\\#03_UNET+cars2+edge+diffeo+original+joint+seed47_24_01_24_12_30_24:   0%|          | 0/13 […"
      ]
     },
     "metadata": {},
     "output_type": "display_data"
    },
    {
     "data": {
      "application/vnd.jupyter.widget-view+json": {
       "model_id": "4f63180d1399427282e8b2b206edf99c",
       "version_major": 2,
       "version_minor": 0
      },
      "text/plain": [
       "Path: ./2024-01-11\\#04_UNET+cars2+edge+diffeo+original+joint+seed131_24_01_24_12_30_24:   0%|          | 0/13 …"
      ]
     },
     "metadata": {},
     "output_type": "display_data"
    },
    {
     "data": {
      "application/vnd.jupyter.widget-view+json": {
       "model_id": "40055ee98ea84ee39333b85d62150d2a",
       "version_major": 2,
       "version_minor": 0
      },
      "text/plain": [
       "Path: ./2024-01-11\\#04_UNET+marple1+edge+diffeo+original+joint_24_01_11_17_06_14:   0%|          | 0/13 [00:00…"
      ]
     },
     "metadata": {},
     "output_type": "display_data"
    },
    {
     "data": {
      "application/vnd.jupyter.widget-view+json": {
       "model_id": "8042154b09a14c8e935bf28a44af61b0",
       "version_major": 2,
       "version_minor": 0
      },
      "text/plain": [
       "Path: ./2024-01-11\\#05_UNET+cars3+edge+diffeo+original+joint_24_01_11_17_06_14:   0%|          | 0/47 [00:00<?…"
      ]
     },
     "metadata": {},
     "output_type": "display_data"
    },
    {
     "data": {
      "application/vnd.jupyter.widget-view+json": {
       "model_id": "b7ddc71a7a1243ef99bd97aeb01ea936",
       "version_major": 2,
       "version_minor": 0
      },
      "text/plain": [
       "Path: ./2024-01-11\\#05_UNET+meerkats01+edge+diffeo+original+joint+seed131_24_01_24_12_30_24:   0%|          | …"
      ]
     },
     "metadata": {},
     "output_type": "display_data"
    },
    {
     "data": {
      "application/vnd.jupyter.widget-view+json": {
       "model_id": "88f14144d6234ebfad85cef5fffe0605",
       "version_major": 2,
       "version_minor": 0
      },
      "text/plain": [
       "Path: ./2024-01-11\\#06_UNET+horses01+edge+diffeo+original+joint+seed131_24_01_24_12_30_24:   0%|          | 0/…"
      ]
     },
     "metadata": {},
     "output_type": "display_data"
    },
    {
     "data": {
      "application/vnd.jupyter.widget-view+json": {
       "model_id": "7181eb24bd1143dea1ead8dadc4e45cc",
       "version_major": 2,
       "version_minor": 0
      },
      "text/plain": [
       "Path: ./2024-01-11\\#06_UNET+marple11+edge+diffeo+original+joint_24_01_11_17_06_14:   0%|          | 0/13 [00:0…"
      ]
     },
     "metadata": {},
     "output_type": "display_data"
    },
    {
     "data": {
      "application/vnd.jupyter.widget-view+json": {
       "model_id": "33dc9c306033432296d5c54b8739abbc",
       "version_major": 2,
       "version_minor": 0
      },
      "text/plain": [
       "Path: ./2024-01-11\\#07_UNET+cars7+edge+diffeo+original+joint+seed131_24_01_24_12_30_24:   0%|          | 0/13 …"
      ]
     },
     "metadata": {},
     "output_type": "display_data"
    },
    {
     "data": {
      "application/vnd.jupyter.widget-view+json": {
       "model_id": "aed311d99b304e6aad3900ddd8e51462",
       "version_major": 2,
       "version_minor": 0
      },
      "text/plain": [
       "Path: ./2024-01-11\\#07_UNET+meerkats01+edge+diffeo+original+joint_24_01_11_17_06_14:   0%|          | 0/13 [00…"
      ]
     },
     "metadata": {},
     "output_type": "display_data"
    },
    {
     "data": {
      "application/vnd.jupyter.widget-view+json": {
       "model_id": "d80431ad11b34060a53de9cd9e95bd7d",
       "version_major": 2,
       "version_minor": 0
      },
      "text/plain": [
       "Path: ./2024-01-11\\#08_UNET+bear02+edge+diffeo+original+joint_24_01_11_17_06_14:   0%|          | 0/13 [00:00<…"
      ]
     },
     "metadata": {},
     "output_type": "display_data"
    },
    {
     "data": {
      "application/vnd.jupyter.widget-view+json": {
       "model_id": "04fb6e1082f14ef99ba4bb6973b06043",
       "version_major": 2,
       "version_minor": 0
      },
      "text/plain": [
       "Path: ./2024-01-11\\#08_UNET+cats05+edge+diffeo+original+joint+seed47_24_01_24_12_30_24:   0%|          | 0/13 …"
      ]
     },
     "metadata": {},
     "output_type": "display_data"
    },
    {
     "data": {
      "application/vnd.jupyter.widget-view+json": {
       "model_id": "c80f1bbc23be4154bf9ba4c73201f85b",
       "version_major": 2,
       "version_minor": 0
      },
      "text/plain": [
       "Path: ./2024-01-11\\#09_UNET+bear01+edge+diffeo+original+joint+seed131_24_01_24_12_30_24:   0%|          | 0/13…"
      ]
     },
     "metadata": {},
     "output_type": "display_data"
    },
    {
     "data": {
      "application/vnd.jupyter.widget-view+json": {
       "model_id": "4f173a39245a4365aebeca3f812a8997",
       "version_major": 2,
       "version_minor": 0
      },
      "text/plain": [
       "Path: ./2024-01-11\\#09_UNET+cars6+edge+diffeo+original+joint_24_01_11_17_06_14:   0%|          | 0/13 [00:00<?…"
      ]
     },
     "metadata": {},
     "output_type": "display_data"
    },
    {
     "data": {
      "application/vnd.jupyter.widget-view+json": {
       "model_id": "08048cf5989a4f4ea4e595203d1e9e18",
       "version_major": 2,
       "version_minor": 0
      },
      "text/plain": [
       "Path: ./2024-01-11\\#10_UNET+rabbits01+edge+diffeo+original+joint+seed131_24_01_24_12_30_24:   0%|          | 0…"
      ]
     },
     "metadata": {},
     "output_type": "display_data"
    },
    {
     "data": {
      "application/vnd.jupyter.widget-view+json": {
       "model_id": "dbbceacfacf14a2d9418074ae255e3f8",
       "version_major": 2,
       "version_minor": 0
      },
      "text/plain": [
       "Path: ./2024-01-11\\#10_UNET+rabbits01+edge+diffeo+original+joint_24_01_11_17_06_14:   0%|          | 0/13 [00:…"
      ]
     },
     "metadata": {},
     "output_type": "display_data"
    },
    {
     "data": {
      "application/vnd.jupyter.widget-view+json": {
       "model_id": "47747ba7ed9b4bc89514fb5bb33c02d3",
       "version_major": 2,
       "version_minor": 0
      },
      "text/plain": [
       "Path: ./2024-01-11\\#11_UNET+bear01+edge+diffeo+original+joint+seed47_24_01_24_12_30_24:   0%|          | 0/13 …"
      ]
     },
     "metadata": {},
     "output_type": "display_data"
    },
    {
     "data": {
      "application/vnd.jupyter.widget-view+json": {
       "model_id": "d6c9561fdfd94e5daca721b13e2efdda",
       "version_major": 2,
       "version_minor": 0
      },
      "text/plain": [
       "Path: ./2024-01-11\\#11_UNET+cats05+edge+diffeo+original+joint_24_01_11_17_06_14:   0%|          | 0/73 [00:00<…"
      ]
     },
     "metadata": {},
     "output_type": "display_data"
    },
    {
     "data": {
      "application/vnd.jupyter.widget-view+json": {
       "model_id": "36c54d67bcb5484dbc013383565b708f",
       "version_major": 2,
       "version_minor": 0
      },
      "text/plain": [
       "Path: ./2024-01-11\\#12_UNET+bear01+edge+diffeo+original+joint_24_01_11_17_06_14:   0%|          | 0/15 [00:00<…"
      ]
     },
     "metadata": {},
     "output_type": "display_data"
    },
    {
     "data": {
      "application/vnd.jupyter.widget-view+json": {
       "model_id": "d2c8f9b0a0b34e54b263c190509601ca",
       "version_major": 2,
       "version_minor": 0
      },
      "text/plain": [
       "Path: ./2024-01-11\\#12_UNET+rabbits01+edge+diffeo+original+joint+seed47_24_01_24_12_30_24:   0%|          | 0/…"
      ]
     },
     "metadata": {},
     "output_type": "display_data"
    },
    {
     "data": {
      "application/vnd.jupyter.widget-view+json": {
       "model_id": "8f7b3baf771c4aa289bc2d1ba1919a85",
       "version_major": 2,
       "version_minor": 0
      },
      "text/plain": [
       "Path: ./2024-01-11\\#13_UNET+cars8+edge+diffeo+original+joint_24_01_11_17_06_14:   0%|          | 0/13 [00:00<?…"
      ]
     },
     "metadata": {},
     "output_type": "display_data"
    },
    {
     "data": {
      "application/vnd.jupyter.widget-view+json": {
       "model_id": "8dcf9155547c43c3b0e81c7e9142ccf1",
       "version_major": 2,
       "version_minor": 0
      },
      "text/plain": [
       "Path: ./2024-01-11\\#13_UNET+marple5+edge+diffeo+original+joint+seed47_24_01_24_12_30_24:   0%|          | 0/13…"
      ]
     },
     "metadata": {},
     "output_type": "display_data"
    },
    {
     "data": {
      "application/vnd.jupyter.widget-view+json": {
       "model_id": "45b4b91fa3b743c0a59ed7e7ea405bad",
       "version_major": 2,
       "version_minor": 0
      },
      "text/plain": [
       "Path: ./2024-01-11\\#14_UNET+marple10+edge+diffeo+original+joint+seed47_24_01_24_12_30_24:   0%|          | 0/1…"
      ]
     },
     "metadata": {},
     "output_type": "display_data"
    },
    {
     "data": {
      "application/vnd.jupyter.widget-view+json": {
       "model_id": "b4412bcaf3f2447c9c8e79441199a2cf",
       "version_major": 2,
       "version_minor": 0
      },
      "text/plain": [
       "Path: ./2024-01-11\\#14_UNET+marple5+edge+diffeo+original+joint_24_01_11_17_06_14:   0%|          | 0/13 [00:00…"
      ]
     },
     "metadata": {},
     "output_type": "display_data"
    },
    {
     "data": {
      "application/vnd.jupyter.widget-view+json": {
       "model_id": "bb4b759239b54127b905f33b6776f9cb",
       "version_major": 2,
       "version_minor": 0
      },
      "text/plain": [
       "Path: ./2024-01-11\\#15_UNET+cars2+edge+diffeo+original+joint_24_01_11_17_06_14:   0%|          | 0/13 [00:00<?…"
      ]
     },
     "metadata": {},
     "output_type": "display_data"
    },
    {
     "data": {
      "application/vnd.jupyter.widget-view+json": {
       "model_id": "1739cf7ed8f640f6ab1cec669e550350",
       "version_major": 2,
       "version_minor": 0
      },
      "text/plain": [
       "Path: ./2024-01-11\\#15_UNET+cars7+edge+diffeo+original+joint+seed47_24_01_24_12_30_24:   0%|          | 0/13 […"
      ]
     },
     "metadata": {},
     "output_type": "display_data"
    },
    {
     "data": {
      "application/vnd.jupyter.widget-view+json": {
       "model_id": "7752017a3cf24b429047bb16a6baad50",
       "version_major": 2,
       "version_minor": 0
      },
      "text/plain": [
       "Path: ./2024-01-11\\#16_UNET+bear02+edge+diffeo+original+joint+seed131_24_01_24_12_30_24:   0%|          | 0/13…"
      ]
     },
     "metadata": {},
     "output_type": "display_data"
    },
    {
     "data": {
      "application/vnd.jupyter.widget-view+json": {
       "model_id": "5ff8173045bd48f2b007a6f9a3c1bf09",
       "version_major": 2,
       "version_minor": 0
      },
      "text/plain": [
       "Path: ./2024-01-11\\#16_UNET+horses01+edge+diffeo+original+joint_24_01_11_17_06_14:   0%|          | 0/37 [00:0…"
      ]
     },
     "metadata": {},
     "output_type": "display_data"
    },
    {
     "data": {
      "application/vnd.jupyter.widget-view+json": {
       "model_id": "20309a29bdef4f209052d9253d5bbcd6",
       "version_major": 2,
       "version_minor": 0
      },
      "text/plain": [
       "Path: ./2024-01-11\\#17_UNET+marple1+edge+diffeo+original+joint+seed131_24_01_24_12_30_24:   0%|          | 0/1…"
      ]
     },
     "metadata": {},
     "output_type": "display_data"
    },
    {
     "data": {
      "application/vnd.jupyter.widget-view+json": {
       "model_id": "65df893708304fa2831eb78f5a2dce0b",
       "version_major": 2,
       "version_minor": 0
      },
      "text/plain": [
       "Path: ./2024-01-11\\#17_UNET+people04+edge+diffeo+original+joint_24_01_11_17_06_14:   0%|          | 0/15 [00:0…"
      ]
     },
     "metadata": {},
     "output_type": "display_data"
    },
    {
     "data": {
      "application/vnd.jupyter.widget-view+json": {
       "model_id": "696f7b87f2da483eabb63d39af332ec9",
       "version_major": 2,
       "version_minor": 0
      },
      "text/plain": [
       "Path: ./2024-01-11\\#18_UNET+cars6+edge+diffeo+original+joint+seed131_24_01_24_12_30_24:   0%|          | 0/13 …"
      ]
     },
     "metadata": {},
     "output_type": "display_data"
    },
    {
     "data": {
      "application/vnd.jupyter.widget-view+json": {
       "model_id": "98d0bc9c731041ee86092e82c7fb7d3e",
       "version_major": 2,
       "version_minor": 0
      },
      "text/plain": [
       "Path: ./2024-01-11\\#19_UNET+horses03+edge+diffeo+original+joint+seed131_24_01_24_12_30_24:   0%|          | 0/…"
      ]
     },
     "metadata": {},
     "output_type": "display_data"
    },
    {
     "data": {
      "application/vnd.jupyter.widget-view+json": {
       "model_id": "1e6b7a0e9dea44dd8b97b23747ff6236",
       "version_major": 2,
       "version_minor": 0
      },
      "text/plain": [
       "Path: ./2024-01-11\\#20_UNET+people04+edge+diffeo+original+joint+seed131_24_01_24_12_30_24:   0%|          | 0/…"
      ]
     },
     "metadata": {},
     "output_type": "display_data"
    },
    {
     "data": {
      "application/vnd.jupyter.widget-view+json": {
       "model_id": "3c0b6e5b62c64f50b9f233b363cc74eb",
       "version_major": 2,
       "version_minor": 0
      },
      "text/plain": [
       "Path: ./2024-01-11\\#21_UNET+marple5+edge+diffeo+original+joint+seed131_24_01_24_12_30_24:   0%|          | 0/1…"
      ]
     },
     "metadata": {},
     "output_type": "display_data"
    },
    {
     "data": {
      "application/vnd.jupyter.widget-view+json": {
       "model_id": "88f657a88a91467ea4b2e981e0ba9e6e",
       "version_major": 2,
       "version_minor": 0
      },
      "text/plain": [
       "Path: ./2024-01-11\\#22_UNET+cars6+edge+diffeo+original+joint+seed47_24_01_24_12_30_24:   0%|          | 0/13 […"
      ]
     },
     "metadata": {},
     "output_type": "display_data"
    },
    {
     "data": {
      "application/vnd.jupyter.widget-view+json": {
       "model_id": "229a680d9ab14ee9a2f36784a4518068",
       "version_major": 2,
       "version_minor": 0
      },
      "text/plain": [
       "Path: ./2024-01-11\\#23_UNET+meerkats01+edge+diffeo+original+joint+seed47_24_01_24_12_30_24:   0%|          | 0…"
      ]
     },
     "metadata": {},
     "output_type": "display_data"
    },
    {
     "data": {
      "application/vnd.jupyter.widget-view+json": {
       "model_id": "51d2c139da344b7babfed2d360be09f0",
       "version_major": 2,
       "version_minor": 0
      },
      "text/plain": [
       "Path: ./2024-01-11\\#24_UNET+marple11+edge+diffeo+original+joint+seed47_24_01_24_12_30_24:   0%|          | 0/1…"
      ]
     },
     "metadata": {},
     "output_type": "display_data"
    },
    {
     "data": {
      "application/vnd.jupyter.widget-view+json": {
       "model_id": "26e9540d6edd4e6b827e1a443e3233c7",
       "version_major": 2,
       "version_minor": 0
      },
      "text/plain": [
       "Path: ./2024-01-11\\#25_UNET+marple1+edge+diffeo+original+joint+seed47_24_01_24_12_30_24:   0%|          | 0/13…"
      ]
     },
     "metadata": {},
     "output_type": "display_data"
    },
    {
     "data": {
      "application/vnd.jupyter.widget-view+json": {
       "model_id": "cdd160ba7e63472a960be3f0c4111416",
       "version_major": 2,
       "version_minor": 0
      },
      "text/plain": [
       "Path: ./2024-01-11\\#26_UNET+cars8+edge+diffeo+original+joint+seed47_24_01_24_12_30_24:   0%|          | 0/13 […"
      ]
     },
     "metadata": {},
     "output_type": "display_data"
    },
    {
     "data": {
      "application/vnd.jupyter.widget-view+json": {
       "model_id": "033736ab6cb2412da2da3b4d8614b093",
       "version_major": 2,
       "version_minor": 0
      },
      "text/plain": [
       "Path: ./2024-01-11\\#27_UNET+cats04+edge+diffeo+original+joint+seed131_24_01_24_12_30_24:   0%|          | 0/13…"
      ]
     },
     "metadata": {},
     "output_type": "display_data"
    },
    {
     "data": {
      "application/vnd.jupyter.widget-view+json": {
       "model_id": "9a519df8c1eb4b439cc27b100dcb814c",
       "version_major": 2,
       "version_minor": 0
      },
      "text/plain": [
       "Path: ./2024-01-11\\#28_UNET+people04+edge+diffeo+original+joint+seed47_24_01_24_12_30_24:   0%|          | 0/1…"
      ]
     },
     "metadata": {},
     "output_type": "display_data"
    },
    {
     "data": {
      "application/vnd.jupyter.widget-view+json": {
       "model_id": "6dd1294616704f16be73a3d5b418c6c2",
       "version_major": 2,
       "version_minor": 0
      },
      "text/plain": [
       "Path: ./2024-01-11\\#29_UNET+marple11+edge+diffeo+original+joint+seed131_24_01_24_12_30_24:   0%|          | 0/…"
      ]
     },
     "metadata": {},
     "output_type": "display_data"
    },
    {
     "data": {
      "application/vnd.jupyter.widget-view+json": {
       "model_id": "b0e069ad231e4d0587030d1fa5b29d05",
       "version_major": 2,
       "version_minor": 0
      },
      "text/plain": [
       "Path: ./2024-01-11\\#30_UNET+horses03+edge+diffeo+original+joint+seed47_24_01_24_12_30_24:   0%|          | 0/1…"
      ]
     },
     "metadata": {},
     "output_type": "display_data"
    },
    {
     "data": {
      "application/vnd.jupyter.widget-view+json": {
       "model_id": "d861d6c3d8bb44169d74a5576d06569a",
       "version_major": 2,
       "version_minor": 0
      },
      "text/plain": [
       "Path: ./2024-01-11\\#31_UNET+cars3+edge+diffeo+original+joint+seed131_24_01_24_12_30_24:   0%|          | 0/13 …"
      ]
     },
     "metadata": {},
     "output_type": "display_data"
    },
    {
     "data": {
      "application/vnd.jupyter.widget-view+json": {
       "model_id": "09353cce87d94c00ba10671944af9799",
       "version_major": 2,
       "version_minor": 0
      },
      "text/plain": [
       "Path: ./2024-01-11\\#32_UNET+cars3+edge+diffeo+original+joint+seed47_24_01_24_12_30_24:   0%|          | 0/13 […"
      ]
     },
     "metadata": {},
     "output_type": "display_data"
    },
    {
     "data": {
      "application/vnd.jupyter.widget-view+json": {
       "model_id": "18c7a4565e644d11a6a89c2623354bda",
       "version_major": 2,
       "version_minor": 0
      },
      "text/plain": [
       "Path: ./2024-01-11\\#33_UNET+cats05+edge+diffeo+original+joint+seed131_24_01_24_12_30_24:   0%|          | 0/13…"
      ]
     },
     "metadata": {},
     "output_type": "display_data"
    },
    {
     "data": {
      "application/vnd.jupyter.widget-view+json": {
       "model_id": "561ec51f4cdd4452a2efcfc421cee4fb",
       "version_major": 2,
       "version_minor": 0
      },
      "text/plain": [
       "Path: ./2024-01-11\\#34_UNET+cars8+edge+diffeo+original+joint+seed131_24_01_24_12_30_24:   0%|          | 0/15 …"
      ]
     },
     "metadata": {},
     "output_type": "display_data"
    },
    {
     "data": {
      "application/vnd.jupyter.widget-view+json": {
       "model_id": "72b545d4f99847769c6790ce786a6b8c",
       "version_major": 2,
       "version_minor": 0
      },
      "text/plain": [
       "Path: ./2024-01-11\\#35_UNET+cats04+edge+diffeo+original+joint+seed47_24_01_24_12_30_24:   0%|          | 0/15 …"
      ]
     },
     "metadata": {},
     "output_type": "display_data"
    },
    {
     "data": {
      "application/vnd.jupyter.widget-view+json": {
       "model_id": "da039367e33a421f8c192f43870c2062",
       "version_major": 2,
       "version_minor": 0
      },
      "text/plain": [
       "Path: ./2024-01-11\\UNET+cats04+edge+diffeo+original+joint_24_01_16_13_08_43:   0%|          | 0/13 [00:00<?, ?…"
      ]
     },
     "metadata": {},
     "output_type": "display_data"
    },
    {
     "data": {
      "application/vnd.jupyter.widget-view+json": {
       "model_id": "7647c126fec84f438972cc1193f60c80",
       "version_major": 2,
       "version_minor": 0
      },
      "text/plain": [
       "Path: ./2024-01-11\\UNET+marple10+edge+diffeo+original+joint_24_01_16_13_08_52:   0%|          | 0/13 [00:00<?,…"
      ]
     },
     "metadata": {},
     "output_type": "display_data"
    }
   ],
   "source": [
    "filtered_copy(src, dst, blacklist=[\n",
    "    \"final\",\n",
    "    \"final\\_mask\",\n",
    "    \"mask\",\n",
    "    \"output\",\n",
    "    \"prior\",\n",
    "    \"prior\\_mask\",\n",
    "    \"config.json\",\n",
    "    \".*epoch_0.pth\",\n",
    "    \"events.out.tfevents.1706116775.gpu-node006.32089\\.([1-9]+0?)\"\n",
    "],progress=True\n",
    ")"
   ]
  }
 ],
 "metadata": {
  "kernelspec": {
   "display_name": "awesome-dC4phDSK-py3.9",
   "language": "python",
   "name": "python3"
  },
  "language_info": {
   "codemirror_mode": {
    "name": "ipython",
    "version": 3
   },
   "file_extension": ".py",
   "mimetype": "text/x-python",
   "name": "python",
   "nbconvert_exporter": "python",
   "pygments_lexer": "ipython3",
   "version": "3.9.13"
  }
 },
 "nbformat": 4,
 "nbformat_minor": 2
}
