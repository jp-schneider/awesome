{
 "cells": [
  {
   "cell_type": "code",
   "execution_count": null,
   "metadata": {},
   "outputs": [],
   "source": [
    "%load_ext autoreload\n",
    "%autoreload 2\n",
    "%matplotlib inline\n",
    "from awesome.run.awesome_config import AwesomeConfig\n",
    "from awesome.run.awesome_runner import AwesomeRunner\n",
    "from awesome.util.reflection import class_name\n",
    "from awesome.analytics.result_model import ResultModel\n",
    "from awesome.util.path_tools import get_project_root_path, get_package_root_path\n",
    "from awesome.util.logging import basic_config\n",
    "import os\n",
    "import torch\n",
    "import numpy as np\n",
    "import re\n",
    "from awesome.util.format import latex_postprocessor\n",
    "import numpy as np\n",
    "import matplotlib.pyplot as plt\n",
    "from matplotlib.colors import LinearSegmentedColormap\n",
    "from matplotlib.colors import to_hex\n",
    "from colour import Color\n",
    "basic_config()\n",
    "\n",
    "os.chdir(get_project_root_path()) # Beeing in the root directory of the project is important for the relative paths to work consistently"
   ]
  },
  {
   "cell_type": "markdown",
   "metadata": {},
   "source": [
    "## Teaser Implicit Figure"
   ]
  },
  {
   "cell_type": "code",
   "execution_count": null,
   "metadata": {},
   "outputs": [],
   "source": [
    "path = \"./notebooks/data/TEST_CNNET_benchmark+xy+convex_23_09_28_11_34_39\"\n",
    "\n",
    "result_model = ResultModel.from_path(path)"
   ]
  },
  {
   "cell_type": "code",
   "execution_count": null,
   "metadata": {},
   "outputs": [],
   "source": [
    "runner = result_model.get_runner(-1)"
   ]
  },
  {
   "cell_type": "code",
   "execution_count": null,
   "metadata": {},
   "outputs": [],
   "source": [
    "from awesome.run.functions import get_result, plot_image_scribbles\n",
    "model = runner.agent._get_model()\n",
    "dataloader = runner.dataloader\n",
    "\n",
    "index = 0\n"
   ]
  },
  {
   "cell_type": "code",
   "execution_count": null,
   "metadata": {},
   "outputs": [],
   "source": [
    "i_0 = list(model.state_dict().items())[0]\n",
    "\n",
    "s_0 = list(result_model.checkpoint_index.iloc[0][\"checkpoint\"].model_state_dict.items())[0]\n",
    "\n",
    "(i_0[1] == s_0[1]).all()"
   ]
  },
  {
   "cell_type": "code",
   "execution_count": null,
   "metadata": {},
   "outputs": [],
   "source": [
    "from awesome.run.functions import get_result, plot_image_scribbles, split_model_result\n",
    "from awesome.util.temporary_property import TemporaryProperty\n",
    "\n",
    "index = 0\n",
    "res, ground_truth, img, fg, bg = get_result(model, dataloader, index, model_gets_targets=False)\n",
    "res = split_model_result(res, model, dataloader, img, compute_crf=False)\n",
    "\n",
    "with TemporaryProperty(model, use_prior_sigmoid=False):\n",
    "    _wo_s = get_result(model, dataloader, index, model_gets_targets=False)\n",
    "    res_hull = _wo_s[0][0, 1, ...][None, ...]\n",
    "\n",
    "import numpy as np\n",
    "image = img\n",
    "x = np.arange(0, image.shape[2], 1)\n",
    "y = np.arange(0, image.shape[1], 1)\n",
    "xx, yy = np.meshgrid(x, y)\n",
    "\n",
    "\n",
    "color_fg = plt.get_cmap(\"tab10\").colors[2]\n",
    "color_bg = plt.get_cmap(\"tab10\").colors[3]\n",
    "\n",
    "color_seg = plt.get_cmap(\"tab10\").colors[0]\n",
    "\n",
    "fig = plot_image_scribbles(img, res.get(\"segmentation\"), fg, bg, res.get(\"prior\"), size=10, tight_layout=True, tight=True)\n",
    "display(fig)\n",
    "plt.close(fig)"
   ]
  },
  {
   "cell_type": "code",
   "execution_count": null,
   "metadata": {},
   "outputs": [],
   "source": [
    "import numpy as np\n",
    "image = img\n",
    "x = np.arange(0, image.shape[2], 1)\n",
    "y = np.arange(0, image.shape[1], 1)\n",
    "xx, yy = np.meshgrid(x, y)\n",
    "\n",
    "\n",
    "color_fg = plt.get_cmap(\"tab10\").colors[2]\n",
    "color_bg = plt.get_cmap(\"tab10\").colors[3]\n",
    "\n",
    "color_seg = plt.get_cmap(\"tab10\").colors[0]"
   ]
  },
  {
   "cell_type": "code",
   "execution_count": null,
   "metadata": {},
   "outputs": [],
   "source": [
    "\n",
    "import matplotlib as mpl\n",
    "import matplotlib.pyplot as plt\n",
    "from matplotlib.colors import to_rgb\n",
    "\n",
    "import numpy as np\n",
    "\n",
    "def colorFader(start,end,mix=0): #fade (linear interpolate) from color c1 (at mix=0) to c2 (mix=1)\n",
    "    start=np.array(mpl.colors.to_rgb(start))\n",
    "    end=np.array(mpl.colors.to_rgb(end))\n",
    "    return mpl.colors.to_hex((1-mix)*start + mix*end)\n",
    "\n",
    "def gradient_end_transparent_map(start_color, end_color, name: str, alpha: float = 1) -> str:\n",
    "    start_color = to_hex(start_color)\n",
    "\n",
    "    end_color = to_hex(end_color)\n",
    "\n",
    "    #start_color = Color(start_color)\n",
    "    # get colormap\n",
    "    ncolors = 256\n",
    "    #colors = list([x.get_rgb() for x in start_color.range_to(Color(end_color), ncolors)])\n",
    "    colors = [to_rgb(colorFader(start_color, end_color, x / (ncolors-1))) for x in range(ncolors)]\n",
    "    color_array = np.array(colors)\n",
    "    \n",
    "    rgba_array = np.ones(color_array.shape[:1] + (4,))\n",
    "    rgba_array[..., :3] = color_array\n",
    "    \n",
    "    #color_array[..., -1] = 1.\n",
    "\n",
    "    # First and last should be fully transparent\n",
    "    rgba_array[0, -1] = 0\n",
    "    rgba_array[1, :3] = rgba_array[0, :3]\n",
    "\n",
    "\n",
    "    rgba_array[-1, -1] = 0\n",
    "\n",
    "    rgba_array[-2, :3] = rgba_array[-1, :3]\n",
    "\n",
    "    rgba_array[:, -1] = rgba_array[:, -1] * alpha\n",
    "\n",
    "    # create a colormap object\n",
    "    map_object = LinearSegmentedColormap.from_list(colors=rgba_array, name=name)\n",
    "    return map_object"
   ]
  },
  {
   "cell_type": "code",
   "execution_count": null,
   "metadata": {},
   "outputs": [],
   "source": [
    "from matplotlib.axes import Axes\n",
    "\n",
    "\n",
    "gradient = np.linspace(0, 1, 256)\n",
    "gradient = np.vstack((gradient, gradient))\n",
    "def plot_color_gradients(cmap_category, cmap_list):\n",
    "    # Create figure and adjust figure height to number of colormaps\n",
    "    nrows = len(cmap_list)\n",
    "    figh = 0.35 + 0.15 + (nrows + (nrows-1)*0.1)*0.22\n",
    "    fig, axs = plt.subplots(nrows=nrows, figsize=(6.4, figh))\n",
    "    fig.subplots_adjust(top=1-.35/figh, bottom=.15/figh, left=0.2, right=0.99)\n",
    "\n",
    "    if isinstance(axs, Axes):\n",
    "        axs = [axs]\n",
    "\n",
    "    axs[0].set_title(f\"{cmap_category} colormaps\", fontsize=14)\n",
    "\n",
    "    for ax, cmap_name in zip(axs, cmap_list):\n",
    "        ax.imshow(gradient, aspect='auto', cmap=cmap_name)\n",
    "        ax.text(-.01, .5, cmap_name, va='center', ha='right', fontsize=10,\n",
    "                transform=ax.transAxes)\n",
    "\n",
    "    # Turn off *all* ticks & spines, not just the ones with colormaps.\n",
    "    for ax in axs:\n",
    "        ax.set_axis_off()\n",
    "\n",
    "cmap = gradient_end_transparent_map(color_fg, color_bg, \"FG-BG\")\n",
    "\n",
    "plot_color_gradients(\"Color\", [cmap])"
   ]
  },
  {
   "cell_type": "code",
   "execution_count": null,
   "metadata": {},
   "outputs": [],
   "source": [
    "print(to_hex(color_bg))\n",
    "print(to_hex(to_hex(cmap(254))))"
   ]
  },
  {
   "cell_type": "code",
   "execution_count": null,
   "metadata": {},
   "outputs": [],
   "source": [
    "\n",
    "from typing import Optional, Any\n",
    "from matplotlib.axes import Axes\n",
    "from awesome.run.functions import saveable, plot_surface_logits\n",
    "    \n",
    "plot_surface_logits(image, res_hull, fg, bg, color_fg=color_fg, color_bg=color_bg, save=True, override=True, transparent=True, \n",
    "                    path=\"./notebooks/output/convex_teaser/teaser_implicit\", \n",
    "                    ext=[\"png\", \"pdf\"], zoom=1.3)"
   ]
  },
  {
   "cell_type": "code",
   "execution_count": null,
   "metadata": {},
   "outputs": [],
   "source": [
    "from awesome.run.functions import register_alpha_colormap\n",
    "\n",
    "@saveable()\n",
    "def plot_scribble_mask(img, fg, bg, color_fg, color_bg):\n",
    "    register_alpha_colormap(color_fg, \"tab10_green_alpha\")\n",
    "    register_alpha_colormap(color_bg, \"tab10_red_alpha\")\n",
    "\n",
    "    size = 10\n",
    "    tight = True\n",
    "\n",
    "    sizes = image.shape[1:]\n",
    "    fig = plt.figure(figsize=(size, size))\n",
    "    dpi = 300\n",
    "    fig.set_size_inches(size * (sizes[1] / dpi), size * (sizes[0] / dpi), forward=False)\n",
    "    ax = plt.Axes(fig, [0., 0., 1., 1.])\n",
    "    ax.set_axis_off()\n",
    "    fig.add_axes(ax)\n",
    "\n",
    "\n",
    "    ax.imshow(img.permute(1, 2, 0).numpy())\n",
    "\n",
    "\n",
    "    fgh = ax.imshow(fg, cmap='tab10_green_alpha')\n",
    "    bgh = ax.imshow(bg, cmap='tab10_red_alpha')\n",
    "\n",
    "    ax.axis('off')\n",
    "    return fig\n",
    "plot_scribble_mask(img, fg, bg, color_fg, color_bg, save=True, override=True, transparent=True, path=\"./notebooks/output/convex_teaser/teaser_scribbles\", ext=[\"png\", \"pdf\"])"
   ]
  },
  {
   "cell_type": "code",
   "execution_count": null,
   "metadata": {},
   "outputs": [],
   "source": [
    "# Multi images\n",
    "import math\n",
    "import numpy as np\n",
    "\n",
    "num_images = 24 * 6\n",
    "rng = 2 * math.pi\n",
    "\n",
    "base_azimuth = 270.\n",
    "base_elev = 30.\n",
    "\n",
    "max_elev = 60\n",
    "min_elev = 0\n",
    "\n",
    "total_elev_dist = (max_elev - base_elev) + (max_elev - min_elev) + (base_elev - min_elev)\n",
    "elev_step = total_elev_dist / num_images\n",
    "elevations = np.array(np.arange(base_elev, max_elev, elev_step).tolist() + np.arange(max_elev, min_elev, -elev_step).tolist() + np.arange(min_elev, base_elev, elev_step).tolist())\n",
    "\n",
    "steps = np.arange(-np.pi, np.pi, (2 * np.pi / num_images))\n",
    "def rad_to_deg(x):\n",
    "    return x * 180 / math.pi\n",
    "\n",
    "def minmax(v: torch.Tensor, new_min: float = 0., new_max: float = 1.):\n",
    "    v_min, v_max = v.min(), v.max()\n",
    "    return (v - v_min)/(v_max - v_min)*(new_max - new_min) + new_min\n",
    "\n",
    "azimuts = (base_azimuth + rad_to_deg(steps) + 180) % 360\n",
    "base_dir = \"./notebooks/output/gif2\"\n",
    "os.makedirs(base_dir, exist_ok=True)\n",
    "for i in range(num_images):\n",
    "    frac_height = None\n",
    "    elevation = elevations[i]\n",
    "    azimuth = azimuts[i]\n",
    "    with plt.ioff():\n",
    "        plot_surface_logits(image, res_hull, fg, bg, \n",
    "                            color_fg=color_fg, \n",
    "                            color_bg=color_bg, \n",
    "                            save=True, \n",
    "                            override=True, \n",
    "                            path=os.path.join(base_dir, f\"teaser_implicit_{i}\"), \n",
    "                            ext=[\"png\"],\n",
    "                            elevation=elevation,\n",
    "                            azimuth=azimuth,\n",
    "                            zoom=1\n",
    "                            )\n",
    "        plt.close()"
   ]
  },
  {
   "cell_type": "code",
   "execution_count": null,
   "metadata": {},
   "outputs": [],
   "source": [
    "from awesome.util.gif_writer_images import GifWriterImages\n",
    "\n",
    "import re\n",
    "result_path = \"./notebooks/output/gif2/\"\n",
    "\n",
    "pattern_file = r\"teaser_implicit_(?P<iter>\\d+).png\"\n",
    "\n",
    "images = []\n",
    "\n",
    "for img in os.listdir(result_path):\n",
    "    m = re.fullmatch(pattern_file, img)\n",
    "    if m:\n",
    "        idx = int(m.group(\"iter\"))\n",
    "        images.append((idx, os.path.join(result_path, img)))\n",
    "        continue\n",
    "\n",
    "images = [x[1] for x in sorted(images, key=lambda x: x[0])]\n",
    "\n",
    "#images = \n",
    "gifw = GifWriterImages(\"teaser_implicit_animation.gif\", images)\n",
    "\n"
   ]
  },
  {
   "cell_type": "code",
   "execution_count": null,
   "metadata": {},
   "outputs": [],
   "source": [
    "gifw.temp_dir"
   ]
  },
  {
   "cell_type": "code",
   "execution_count": null,
   "metadata": {},
   "outputs": [],
   "source": [
    "gifw(append_times=2)"
   ]
  },
  {
   "cell_type": "code",
   "execution_count": null,
   "metadata": {},
   "outputs": [],
   "source": [
    "elevations"
   ]
  },
  {
   "cell_type": "code",
   "execution_count": null,
   "metadata": {},
   "outputs": [],
   "source": [
    "val = elevations % 30\n",
    "np.stack([val[:len(val) // 2], val[len(val) // 2::-1]], axis=0)"
   ]
  },
  {
   "cell_type": "code",
   "execution_count": null,
   "metadata": {},
   "outputs": [],
   "source": [
    "val"
   ]
  },
  {
   "cell_type": "code",
   "execution_count": null,
   "metadata": {},
   "outputs": [],
   "source": [
    "val[len(val) // 2:][::-1]"
   ]
  },
  {
   "cell_type": "code",
   "execution_count": null,
   "metadata": {},
   "outputs": [],
   "source": [
    "import math\n",
    "math.cos(0)"
   ]
  },
  {
   "cell_type": "code",
   "execution_count": null,
   "metadata": {},
   "outputs": [],
   "source": [
    "from scipy.interpolate import interp2d\n",
    "import torch.nn.functional as F\n",
    "import torch\n",
    "from awesome.run.functions import get_mpl_figure, saveable\n",
    "@saveable()\n",
    "def plot_grid_prediction(image, \n",
    "                         res_hull_disc, \n",
    "                         fg, bg, color_fg, color_bg, color_seg, \n",
    "                         size: float = 5,\n",
    "                         tight: bool = True):\n",
    "    \n",
    "    \n",
    "    thresh = 0.1\n",
    "    def subsample(img: np.ndarray):\n",
    "        x = torch.arange(-1, 1, 6 / img.shape[-2])\n",
    "        y = torch.arange(-1, 1, 6 / img.shape[-1])\n",
    "        xx, yy = torch.meshgrid(x, y)\n",
    "        flowgrid = torch.stack((yy, xx), dim=-1).float()[None,...]\n",
    "        return F.grid_sample(img[None,...], flowgrid, align_corners=True)[0,...]\n",
    "\n",
    "    subsampled_image = subsample(image).permute(1, 2, 0)\n",
    "    extent = (0, subsampled_image.shape[1], subsampled_image.shape[0], 0)\n",
    "\n",
    "    fig, ax = get_mpl_figure(1, 1, size=size, tight=tight, ratio_or_img=subsampled_image[...,0].numpy())\n",
    "    \n",
    "    ax.imshow(subsampled_image, extent=extent)\n",
    "\n",
    "    ax.pcolormesh(subsampled_image, edgecolors=\"#a2a6ab\", linewidth=.5, facecolors='none', rasterized=True, zorder=0)\n",
    "\n",
    "    res_hull_color = np.zeros(res_hull_disc.shape[-2:] + (4,), dtype=np.float32)\n",
    "    res_hull_color[..., 0:3] = color_seg\n",
    "\n",
    "    alpha = .9\n",
    "    res_hull_color[..., 3] = (1 - res_hull_disc.squeeze().numpy()) * alpha\n",
    "\n",
    "    ax.imshow(subsample(torch.tensor(res_hull_color).permute(2, 0, 1)).permute(1, 2, 0), extent=extent)\n",
    "\n",
    "\n",
    "    sub_fg = subsample(torch.tensor(fg.unsqueeze(0).float()))[0]\n",
    "    sub_fg = (sub_fg > thresh).float()\n",
    "    fg_pred_color = np.zeros(sub_fg.shape + (4,), dtype=np.float32)\n",
    "    fg_pred_color[..., 0:3] = color_fg\n",
    "    alpha_fg_scribble = .9\n",
    "    fg_pred_color[..., 3] = sub_fg * alpha_fg_scribble\n",
    "    ax.imshow(fg_pred_color, extent=extent)\n",
    "\n",
    "\n",
    "    sub_bg = subsample(torch.tensor(bg.unsqueeze(0).float()))[0]\n",
    "    sub_bg = (sub_bg > thresh).float()\n",
    "    bg_pred_color = np.zeros(sub_bg.shape + (4,), dtype=np.float32)\n",
    "    bg_pred_color[..., 0:3] = color_bg\n",
    "    alpha_bg_scribble = .9\n",
    "    bg_pred_color[..., 3] = sub_bg * alpha_bg_scribble\n",
    "    ax.imshow(bg_pred_color, extent=extent)\n",
    "\n",
    "\n",
    "\n",
    "    if not tight:\n",
    "        ax.set_ylim(subsampled_image.shape[0] - 1, 0)\n",
    "        ax.set_xlim(0, subsampled_image.shape[1] -1)\n",
    "   \n",
    "    \n",
    "    # x_pos = [i._x for i in ax.get_xticklabels() if i._x <= subsampled_image.shape[1]]\n",
    "    # x_lab = [round((i / subsampled_image.shape[1]), 2) for i in x_pos]\n",
    "    # x_lab = [\"\" for x in x_lab]\n",
    "    # ax.set_xticks(x_pos, x_lab)\n",
    "\n",
    "    # y_pos = [i._y for i in ax.get_yticklabels() if i._y <= subsampled_image.shape[0]]\n",
    "    # y_lab = [round((i / subsampled_image.shape[0]), 2) for i in y_pos]\n",
    "    # y_lab = [\"\" for x in y_lab]\n",
    "    # ax.set_yticks(y_pos, y_lab)\n",
    "\n",
    "    # if tight:\n",
    "    #     sizes = subsampled_image.shape[:2]\n",
    "    #     dpi = 300\n",
    "    #     fig.set_size_inches(15 * (sizes[1] / dpi), 15 * (sizes[0] / dpi), forward = False)\n",
    "    return fig\n",
    "\n",
    "fig = plot_grid_prediction(img, res.get(\"segmentation\"), fg, bg, color_fg, color_bg, color_seg, \n",
    "                     save=True,\n",
    "                     override=True, \n",
    "                     path=\"./notebooks/output/convex_teaser/teaser_explicit\", \n",
    "                     tight=True,\n",
    "                     ext=[\"png\", \"pdf\"])\n",
    "display(fig)\n",
    "plt.close(fig)"
   ]
  },
  {
   "cell_type": "code",
   "execution_count": null,
   "metadata": {},
   "outputs": [],
   "source": [
    "from scipy.interpolate import interp2d\n",
    "import torch.nn.functional as F\n",
    "import torch\n",
    "\n",
    "@saveable()\n",
    "def plot_grid_scribbles(image, \n",
    "                         fg, bg, color_fg, color_bg, \n",
    "                         size: float = 5,\n",
    "                         tight: bool = True):\n",
    "    \n",
    "   \n",
    "    thresh = 0.1\n",
    "    def subsample(img: np.ndarray):\n",
    "        x = torch.arange(-1, 1, 6 / img.shape[-2])\n",
    "        y = torch.arange(-1, 1, 6 / img.shape[-1])\n",
    "        xx, yy = torch.meshgrid(x, y)\n",
    "        flowgrid = torch.stack((yy, xx), dim=-1).float()[None,...]\n",
    "        return F.grid_sample(img[None,...], flowgrid, align_corners=True)[0,...]\n",
    "\n",
    "    subsampled_image = subsample(image).permute(1, 2, 0)\n",
    "    extent = (0, subsampled_image.shape[1], subsampled_image.shape[0], 0)\n",
    "\n",
    "    fig = plt.figure(figsize=(size, size))\n",
    "\n",
    "    #x_ext = sizes[1] / dpi, sizes[0] / dpi\n",
    "    if tight:\n",
    "        sizes = subsampled_image.shape[:2]\n",
    "        dpi = 300\n",
    "        fig.set_size_inches(15 * (sizes[1]-1) / dpi, 15 * (sizes[0]-1) / dpi, forward = False)\n",
    "    \n",
    "    ax = plt.Axes(fig, [0., 0., 1, 1])\n",
    "    \n",
    "    ax.set_axis_off()\n",
    "    ax = fig.add_axes(ax, computed_zorder=False)\n",
    "    \n",
    "    ax.imshow(subsampled_image, extent=extent)\n",
    "\n",
    "    #ax.pcolormesh(subsampled_image, edgecolors=\"#a2a6ab\", linewidth=.5, facecolors='none',rasterized=True, zorder=0)\n",
    "\n",
    "    sub_fg = subsample(torch.tensor(fg.unsqueeze(0).float()))[0]\n",
    "    sub_fg = (sub_fg > thresh).float()\n",
    "    fg_pred_color = np.zeros(sub_fg.shape + (4,), dtype=np.float32)\n",
    "\n",
    "    fg_pred_color[..., 0:3] = color_fg\n",
    "    alpha_fg_scribble = .9\n",
    "    fg_pred_color[..., 3] = sub_fg * alpha_fg_scribble\n",
    "\n",
    "    ax.imshow(fg_pred_color, extent=extent)\n",
    "\n",
    "\n",
    "    sub_bg = subsample(torch.tensor(bg.unsqueeze(0).float()))[0]\n",
    "    sub_bg = (sub_bg > thresh).float()\n",
    "    bg_pred_color = np.zeros(sub_bg.shape + (4,), dtype=np.float32)\n",
    "\n",
    "    bg_pred_color[..., 0:3] = color_bg\n",
    "    alpha_bg_scribble = .9\n",
    "    bg_pred_color[..., 3] = sub_bg * alpha_bg_scribble\n",
    "\n",
    "    ax.imshow(bg_pred_color, extent=extent)\n",
    "\n",
    "    ax.set_ylim(bg_pred_color.shape[0]-1, 0)\n",
    "    ax.set_xlim(0, bg_pred_color.shape[1]-1,)\n",
    "   \n",
    "    x_pos = [i._x for i in ax.get_xticklabels() if i._x <= subsampled_image.shape[1]]\n",
    "    x_lab = [round((i / subsampled_image.shape[1]), 2) for i in x_pos]\n",
    "    x_lab = [\"\" for x in x_lab]\n",
    "    ax.set_xticks(x_pos, x_lab)\n",
    "\n",
    "    y_pos = [i._y for i in ax.get_yticklabels() if i._y <= subsampled_image.shape[0]]\n",
    "    y_lab = [round((i / subsampled_image.shape[0]), 2) for i in y_pos]\n",
    "    y_lab = [\"\" for x in y_lab]\n",
    "    ax.set_yticks(y_pos, y_lab)\n",
    "\n",
    "    return fig\n",
    "\n",
    "fig = plot_grid_scribbles(image, fg, bg, color_fg, color_bg, \n",
    "                     save=True,\n",
    "                     override=True, \n",
    "                     tight_layout=True,\n",
    "                     path=\"./notebooks/output/teaser_image\", \n",
    "                     tight=True,\n",
    "                     ext=[\"png\", \"pdf\"])\n",
    "fig"
   ]
  },
  {
   "cell_type": "code",
   "execution_count": null,
   "metadata": {},
   "outputs": [],
   "source": [
    "subsampled_image.shape[2]"
   ]
  },
  {
   "cell_type": "code",
   "execution_count": null,
   "metadata": {},
   "outputs": [],
   "source": [
    "\n",
    "fig.get_axes()[0].get_xticklabels()\n",
    "fig"
   ]
  },
  {
   "cell_type": "code",
   "execution_count": null,
   "metadata": {},
   "outputs": [],
   "source": [
    "for lab in fig.get_axes()[0].get_xticklabels():\n",
    "    idx = lab._x\n",
    "    img_x = round((image.shape[2] / idx), 1)\n",
    "    lab.set_text(f\"{img_x}\")"
   ]
  },
  {
   "cell_type": "code",
   "execution_count": null,
   "metadata": {},
   "outputs": [],
   "source": [
    "fig"
   ]
  },
  {
   "cell_type": "code",
   "execution_count": null,
   "metadata": {},
   "outputs": [],
   "source": [
    "sub_fg.unique()"
   ]
  },
  {
   "cell_type": "code",
   "execution_count": null,
   "metadata": {},
   "outputs": [],
   "source": [
    "image"
   ]
  },
  {
   "cell_type": "code",
   "execution_count": null,
   "metadata": {},
   "outputs": [],
   "source": [
    "F.grid_sample"
   ]
  },
  {
   "cell_type": "code",
   "execution_count": null,
   "metadata": {},
   "outputs": [],
   "source": [
    "from scipy.signal import resample\n",
    "\n",
    "plt.figure()\n",
    "\n",
    "plt.imshow(image.permute(1, 2, 0)[::3, ::3, :])"
   ]
  },
  {
   "cell_type": "code",
   "execution_count": null,
   "metadata": {},
   "outputs": [],
   "source": [
    "cmap"
   ]
  },
  {
   "cell_type": "code",
   "execution_count": null,
   "metadata": {},
   "outputs": [],
   "source": [
    "to_hex(color_bg)"
   ]
  }
 ],
 "metadata": {
  "kernelspec": {
   "display_name": "awesome-dC4phDSK-py3.9",
   "language": "python",
   "name": "python3"
  },
  "language_info": {
   "codemirror_mode": {
    "name": "ipython",
    "version": 3
   },
   "file_extension": ".py",
   "mimetype": "text/x-python",
   "name": "python",
   "nbconvert_exporter": "python",
   "pygments_lexer": "ipython3",
   "version": "3.9.13"
  },
  "orig_nbformat": 4
 },
 "nbformat": 4,
 "nbformat_minor": 2
}
