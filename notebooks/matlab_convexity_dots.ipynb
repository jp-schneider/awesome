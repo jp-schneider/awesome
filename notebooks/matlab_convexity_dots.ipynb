{
 "cells": [
  {
   "cell_type": "code",
   "execution_count": null,
   "metadata": {},
   "outputs": [],
   "source": [
    "%load_ext autoreload\n",
    "%autoreload 2\n",
    "from awesome.run.awesome_config import AwesomeConfig\n",
    "from awesome.run.awesome_runner import AwesomeRunner\n",
    "from awesome.util.reflection import class_name\n",
    "from awesome.analytics.result_model import ResultModel\n",
    "from awesome.util.path_tools import get_project_root_path, get_package_root_path\n",
    "import os\n",
    "from tqdm.auto import tqdm\n",
    "import scipy\n",
    "import torch\n",
    "import numpy as np\n",
    "import cv2 as cv\n",
    "import math\n",
    "from awesome.run.functions import plot_as_image, plot_mask\n",
    "import matplotlib.pyplot as plt\n",
    "import re\n",
    "from awesome.util.format import latex_postprocessor\n",
    "\n",
    "os.chdir(get_project_root_path()) # Beeing in the root directory of the project is important for the relative paths to work consistently"
   ]
  },
  {
   "cell_type": "code",
   "execution_count": null,
   "metadata": {},
   "outputs": [],
   "source": [
    "path = \"./runs/convexity/07_CNNET_benchmark+featxy+convex_23_10_01_16_57_47\"\n",
    "\n",
    "result_model = ResultModel.from_path(path)\n",
    "result_model"
   ]
  },
  {
   "cell_type": "code",
   "execution_count": null,
   "metadata": {},
   "outputs": [],
   "source": [
    "runner = result_model.get_runner(-1)\n",
    "model = runner.agent._get_model()\n",
    "dataloader = runner.dataloader"
   ]
  },
  {
   "cell_type": "code",
   "execution_count": null,
   "metadata": {},
   "outputs": [],
   "source": [
    "import numpy as np\n",
    "import cv2 as cv\n",
    "import math\n",
    "from awesome.run.functions import plot_as_image\n",
    "from tqdm.auto import tqdm\n",
    "import scipy\n",
    "import logging\n",
    "\n",
    "index = 1\n",
    "\n",
    "mask = result_model[index]\n",
    "\n",
    "fig = plot_as_image(mask)\n",
    "display(fig)\n",
    "plt.close(fig)\n",
    "\n",
    "def extract_contour_points(mask: np.ndarray, min_size: int = 0):\n",
    "    img_mask = (mask * 255).astype(np.uint8)\n",
    "    contours, _ = cv.findContours(img_mask, mode=cv.RETR_TREE, method=cv.CHAIN_APPROX_NONE)\n",
    "    if min_size != 0:\n",
    "        filtered_contours = []\n",
    "        for c in contours:\n",
    "            area = cv.contourArea(c)\n",
    "            if area >= min_size:\n",
    "                filtered_contours.append(c)\n",
    "        contours = filtered_contours\n",
    "    \n",
    "    \n",
    "    indev_length = np.array([len(x) for x in contours])\n",
    "    ends = np.cumsum(indev_length)\n",
    "    combined = np.concatenate(contours, axis=0)[:, 0, :]\n",
    "\n",
    "    is_filled = np.zeros((len(ends)), dtype=np.bool_)\n",
    "    for i, c in enumerate(contours):\n",
    "        m = np.zeros(img_mask.shape)\n",
    "        cv.fillConvexPoly(m, c, color=255, lineType=cv.LINE_8)\n",
    "        # Contour points are part of the mask 1 mask so ignore them to determine wether it is a filled shape\n",
    "        # Only covers holes in masks, if hole itself has a contour, it will also return filled\n",
    "        m[c[:, 0, 1], c[:, 0, 0]] = False\n",
    "        is_filled[i] = mask[m == 255].any()\n",
    "        # fig = plot_as_image(m)\n",
    "        # display(fig)\n",
    "        # plt.close(fig)\n",
    "    return combined, ends, is_filled \n",
    "\n",
    "def find_cut_points(contour_points, ends):\n",
    "    cut = []\n",
    "    tangent = []\n",
    "\n",
    "    for i, end in enumerate(ends):\n",
    "        start = 0\n",
    "        if i > 0:\n",
    "            start = ends[i-1]\n",
    "        cut_pts = contour_points[start: end][::-1] # Reverse to me anti clockwise\n",
    "        tangent_pts = np.roll(cut_pts, -1, axis=0)\n",
    "        cut.append(cut_pts)\n",
    "        tangent.append(tangent_pts)\n",
    "        #display(np.concatenate([cut_pts, tangent_pts], axis=1))\n",
    "    cut_points = np.concatenate(cut)\n",
    "    tangent_points = np.concatenate(tangent)\n",
    "    assert len(contour_points) == len(cut_points)\n",
    "    assert len(contour_points) == len(tangent_points)\n",
    "    return cut_points, tangent_points\n",
    "\n",
    "\n",
    "def process_result_model(result_model, folder, progress_bar = None):\n",
    "    it = range(len(result_model))\n",
    "    if progress_bar is None:\n",
    "        progress_bar = tqdm(total=len(result_model), desc=\"Process images\")\n",
    "    else:\n",
    "        progress_bar.reset(total=len(result_model))\n",
    "\n",
    "    os.makedirs(folder, exist_ok=True)\n",
    "\n",
    "    for index in it:\n",
    "        try:\n",
    "            mask = result_model[index]\n",
    "            contour_points, ends, is_filled = extract_contour_points(mask, 0)\n",
    "            cut_points, tangent_points = find_cut_points(contour_points, ends)\n",
    "\n",
    "            cut_path = os.path.join(folder, f\"cut_points_{index}.mat\")\n",
    "            tangent_path = os.path.join(folder, f\"tangent_points_{index}.mat\")\n",
    "            end_path = os.path.join(folder, f\"end_index_points_{index}.mat\")\n",
    "            is_filled_path = os.path.join(folder, f\"is_filled_{index}.mat\")\n",
    "\n",
    "            scipy.io.savemat(cut_path, dict(cut_points=cut_points), appendmat=False)\n",
    "            scipy.io.savemat(tangent_path, dict(tangent_points=tangent_points), appendmat=False)\n",
    "            scipy.io.savemat(end_path, dict(end_index_points=ends), appendmat=False)\n",
    "            scipy.io.savemat(is_filled_path, dict(is_filled=is_filled), appendmat=False)\n",
    "        except Exception as err:\n",
    "            logging.warning(f\"Failed to process index {index} of Result model {result_model.name}\")\n",
    "        progress_bar.update()\n",
    "    return progress_bar\n",
    "\n",
    "contour_points, ends, is_filled = extract_contour_points(mask, 10)\n"
   ]
  },
  {
   "cell_type": "code",
   "execution_count": null,
   "metadata": {},
   "outputs": [],
   "source": [
    "\n",
    "\n",
    "find_cut_points(contour_points, ends, is_filled)"
   ]
  },
  {
   "cell_type": "code",
   "execution_count": null,
   "metadata": {},
   "outputs": [],
   "source": [
    "import matplotlib.pyplot as plt\n",
    "msks = np.zeros((*mask.shape[:2], len(ends)))\n",
    "for i, end in enumerate(ends):\n",
    "    start = 0\n",
    "    if i > 0:\n",
    "        start = ends[i-1]\n",
    "    pts = contour_points[start: end]\n",
    "    msks[pts[:, 0, 1], pts[:, 0, 0], i] = True \n",
    "\n",
    "    #fig = plot_as_image(msks[:,:,i])\n",
    "    #display(fig)\n",
    "    #plt.close(fig)"
   ]
  },
  {
   "cell_type": "code",
   "execution_count": null,
   "metadata": {},
   "outputs": [],
   "source": [
    "from awesome.run.functions import plot_mask\n",
    "\n",
    "plt.close(\"all\")\n",
    "fig = plot_mask(None, msks[...], size=10, axes_description=True, labels=[str(x) for x in range(msks.shape[2])], legend=True)\n",
    "display(fig)\n",
    "plt.close(fig)"
   ]
  },
  {
   "cell_type": "code",
   "execution_count": null,
   "metadata": {},
   "outputs": [],
   "source": [
    "msks[..., 2:].any()\n"
   ]
  },
  {
   "cell_type": "code",
   "execution_count": null,
   "metadata": {},
   "outputs": [],
   "source": [
    "from awesome.run.functions import plot_as_image\n",
    "\n",
    "plot_as_image(mask)"
   ]
  },
  {
   "cell_type": "code",
   "execution_count": null,
   "metadata": {},
   "outputs": [],
   "source": [
    "rm_paths = [\n",
    "    \"./runs/convexity/#09_FCNET_benchmark+featxy+convex_23_10_01_11_44_56\",\n",
    "    \"./runs/convexity/#14_FCNET_benchmark+featxy+convex+seed47_23_10_01_13_20_04\",\n",
    "    \"./runs/convexity/06_CNNET_benchmark+featxy+convex+seed131_23_10_01_16_57_11\",\n",
    "    \"./runs/convexity/07_CNNET_benchmark+featxy+convex_23_10_01_16_57_47\",\n",
    "    \"./runs/convexity/11_FCNET_benchmark+featxy+convex+seed131_23_10_01_22_55_21\",\n",
    "    \"./runs/convexity/15_CNNET_benchmark+featxy+convex+seed47_23_10_01_23_22_53\",\n",
    "]\n",
    "\n",
    "dest_folder = [\n",
    "    \"FCNET_featxy_seed42\",\n",
    "    \"FCNET_featxy_seed47\",\n",
    "    \"CNNET_featxy_seed131\",\n",
    "    \"CNNET_featxy_seed42\",\n",
    "    \"FCNET_featxy_seed131\",\n",
    "    \"CNNET_featxy_seed47\",\n",
    "]\n",
    "p = \"output/cut_points\"\n",
    "for path, d in zip(rm_paths, dest_folder):\n",
    "    it = None\n",
    "    rm = ResultModel.from_path(path)\n",
    "    it = process_result_model(rm, os.path.join(p, d), it)\n",
    "    it.close()"
   ]
  },
  {
   "cell_type": "code",
   "execution_count": null,
   "metadata": {},
   "outputs": [],
   "source": [
    "mats_path = \"./output/matlab_results/results/mat\"\n",
    "\n",
    "def sort(x):\n",
    "    file, ext = os.path.splitext(x)\n",
    "    return int(file)\n",
    "\n",
    "mat_files = [os.path.join(mats_path, f) for f in sorted(os.listdir(mats_path), key=sort)]\n",
    "\n"
   ]
  },
  {
   "cell_type": "code",
   "execution_count": null,
   "metadata": {},
   "outputs": [],
   "source": [
    "import cv2 as cv\n",
    "from awesome.util.temporary_property import TemporaryProperty\n",
    "import pandas as pd\n",
    "from awesome.measures.miou import MIOU\n",
    "from awesome.measures.pixel_accuracy import PixelAccuracy\n",
    "\n",
    "index = 2\n",
    "df = pd.DataFrame(columns=[\n",
    "    \"IoU\", \n",
    "    \"Acc.\"\n",
    "], index=range(len(dataloader)))\n",
    "\n",
    "iou = MIOU()\n",
    "acc = PixelAccuracy()\n",
    "\n",
    "for index in range(len(dataloader)):\n",
    "    loaded_mat = scipy.io.loadmat(mat_files[index])\n",
    "    coords = loaded_mat[\"mConvexGeo_ConvexityShapedModel\"].T\n",
    "\n",
    "    with TemporaryProperty(dataloader, mode=\"sample\", return_prior=False):\n",
    "        sample = dataloader[index]\n",
    "        img = sample[\"image\"]\n",
    "        gt = 1 - sample[\"gt\"][..., None]\n",
    "        coords = np.round(coords).astype(int)\n",
    "        mask = np.zeros(img.shape[1:])[..., None]\n",
    "\n",
    "        cv.fillConvexPoly(mask, coords, color=1, lineType=cv.LINE_8)\n",
    "\n",
    "        #mask[coords[:, 1], coords[:, 0]] = True\n",
    "\n",
    "        df.at[index, \"IoU\"] = iou(mask, gt).item()\n",
    "        df.at[index, \"Acc.\"] = acc(mask, gt).item()\n",
    "\n",
    "\n",
    "        seg_msk = result_model[index]\n",
    "        stacked_msk = np.concatenate([gt, mask], axis=2)\n",
    "        p = os.path.join(mats_path, f\"../output_mask/img_{index}.png\")\n",
    "        plot_mask(img, stacked_msk, path=p, labels=[ \n",
    "            \"Ground Truth\",\n",
    "            f\"Convex-Seg IoU: {df.at[index, 'IoU']:.3f} Acc.: {df.at[index, 'Acc.']:.3f}\"\n",
    "        ], save=True, close=True)"
   ]
  },
  {
   "cell_type": "code",
   "execution_count": null,
   "metadata": {},
   "outputs": [],
   "source": [
    "plot_as_image(gt, display=True)"
   ]
  },
  {
   "cell_type": "code",
   "execution_count": null,
   "metadata": {},
   "outputs": [],
   "source": [
    "from awesome.run.functions import plot_mask"
   ]
  },
  {
   "cell_type": "code",
   "execution_count": null,
   "metadata": {},
   "outputs": [],
   "source": [
    "df.mean()"
   ]
  },
  {
   "cell_type": "code",
   "execution_count": null,
   "metadata": {},
   "outputs": [],
   "source": [
    "MIOU()(mask, gt)"
   ]
  },
  {
   "cell_type": "code",
   "execution_count": null,
   "metadata": {},
   "outputs": [],
   "source": [
    "from awesome.run.functions import saveable, plot_as_image"
   ]
  },
  {
   "cell_type": "code",
   "execution_count": null,
   "metadata": {},
   "outputs": [],
   "source": [
    "coords = np.round(coords).astype(int)"
   ]
  },
  {
   "cell_type": "code",
   "execution_count": null,
   "metadata": {},
   "outputs": [],
   "source": [
    "sample[1]"
   ]
  }
 ],
 "metadata": {
  "kernelspec": {
   "display_name": "awesome-XSpoZC1W-py3.9",
   "language": "python",
   "name": "python3"
  },
  "language_info": {
   "codemirror_mode": {
    "name": "ipython",
    "version": 3
   },
   "file_extension": ".py",
   "mimetype": "text/x-python",
   "name": "python",
   "nbconvert_exporter": "python",
   "pygments_lexer": "ipython3",
   "version": "3.9.13"
  }
 },
 "nbformat": 4,
 "nbformat_minor": 2
}
